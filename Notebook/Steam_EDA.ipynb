{
 "cells": [
  {
   "cell_type": "code",
   "execution_count": 1,
   "id": "ae85a6e8-a167-4d27-b7ad-0b50e2a6a65d",
   "metadata": {},
   "outputs": [],
   "source": [
    "import pandas as pd\n",
    "import numpy as np\n",
    "import matplotlib.pyplot as plt\n",
    "import seaborn as sns"
   ]
  },
  {
   "cell_type": "code",
   "execution_count": 2,
   "id": "e31122aa-035f-4f44-bbd2-2a4cecc9ab5f",
   "metadata": {},
   "outputs": [
    {
     "data": {
      "text/html": [
       "<div>\n",
       "<style scoped>\n",
       "    .dataframe tbody tr th:only-of-type {\n",
       "        vertical-align: middle;\n",
       "    }\n",
       "\n",
       "    .dataframe tbody tr th {\n",
       "        vertical-align: top;\n",
       "    }\n",
       "\n",
       "    .dataframe thead th {\n",
       "        text-align: right;\n",
       "    }\n",
       "</style>\n",
       "<table border=\"1\" class=\"dataframe\">\n",
       "  <thead>\n",
       "    <tr style=\"text-align: right;\">\n",
       "      <th></th>\n",
       "      <th>Game Name</th>\n",
       "      <th>Rating</th>\n",
       "      <th>#Reviews</th>\n",
       "      <th>Discount%</th>\n",
       "      <th>Price (€)</th>\n",
       "      <th>Original Price (€)</th>\n",
       "      <th>Release Date</th>\n",
       "      <th>Windows</th>\n",
       "      <th>Linux</th>\n",
       "      <th>MacOS</th>\n",
       "      <th>Fetched At</th>\n",
       "    </tr>\n",
       "  </thead>\n",
       "  <tbody>\n",
       "    <tr>\n",
       "      <th>0</th>\n",
       "      <td>PEAK</td>\n",
       "      <td>7.0</td>\n",
       "      <td>77,683</td>\n",
       "      <td>-38.0</td>\n",
       "      <td>4.64</td>\n",
       "      <td>7.49</td>\n",
       "      <td>16 Jun, 2025</td>\n",
       "      <td>1</td>\n",
       "      <td>0</td>\n",
       "      <td>0</td>\n",
       "      <td>2025-08-11 00:00</td>\n",
       "    </tr>\n",
       "    <tr>\n",
       "      <th>1</th>\n",
       "      <td>Cyberpunk 2077</td>\n",
       "      <td>7.0</td>\n",
       "      <td>772,574</td>\n",
       "      <td>-65.0</td>\n",
       "      <td>20.99</td>\n",
       "      <td>59.99</td>\n",
       "      <td>9 Dec, 2020</td>\n",
       "      <td>1</td>\n",
       "      <td>0</td>\n",
       "      <td>1</td>\n",
       "      <td>2025-08-11 00:00</td>\n",
       "    </tr>\n",
       "    <tr>\n",
       "      <th>2</th>\n",
       "      <td>Rust</td>\n",
       "      <td>7.0</td>\n",
       "      <td>1,038,433</td>\n",
       "      <td>-50.0</td>\n",
       "      <td>19.99</td>\n",
       "      <td>39.99</td>\n",
       "      <td>8 Feb, 2018</td>\n",
       "      <td>1</td>\n",
       "      <td>0</td>\n",
       "      <td>1</td>\n",
       "      <td>2025-08-11 00:00</td>\n",
       "    </tr>\n",
       "    <tr>\n",
       "      <th>3</th>\n",
       "      <td>Microsoft Flight Simulator (2020) 40th Anniver...</td>\n",
       "      <td>5.0</td>\n",
       "      <td>63,905</td>\n",
       "      <td>-60.0</td>\n",
       "      <td>27.99</td>\n",
       "      <td>69.99</td>\n",
       "      <td>17 Aug, 2020</td>\n",
       "      <td>1</td>\n",
       "      <td>0</td>\n",
       "      <td>0</td>\n",
       "      <td>2025-08-11 00:00</td>\n",
       "    </tr>\n",
       "    <tr>\n",
       "      <th>4</th>\n",
       "      <td>Sid Meier's Civilization VII</td>\n",
       "      <td>4.0</td>\n",
       "      <td>34,643</td>\n",
       "      <td>-30.0</td>\n",
       "      <td>48.99</td>\n",
       "      <td>69.99</td>\n",
       "      <td>10 Feb, 2025</td>\n",
       "      <td>1</td>\n",
       "      <td>1</td>\n",
       "      <td>1</td>\n",
       "      <td>2025-08-11 00:00</td>\n",
       "    </tr>\n",
       "  </tbody>\n",
       "</table>\n",
       "</div>"
      ],
      "text/plain": [
       "                                           Game Name  Rating   #Reviews  \\\n",
       "0                                               PEAK     7.0     77,683   \n",
       "1                                     Cyberpunk 2077     7.0    772,574   \n",
       "2                                               Rust     7.0  1,038,433   \n",
       "3  Microsoft Flight Simulator (2020) 40th Anniver...     5.0     63,905   \n",
       "4                       Sid Meier's Civilization VII     4.0     34,643   \n",
       "\n",
       "   Discount%  Price (€)  Original Price (€)  Release Date  Windows  Linux  \\\n",
       "0      -38.0       4.64                7.49  16 Jun, 2025        1      0   \n",
       "1      -65.0      20.99               59.99   9 Dec, 2020        1      0   \n",
       "2      -50.0      19.99               39.99   8 Feb, 2018        1      0   \n",
       "3      -60.0      27.99               69.99  17 Aug, 2020        1      0   \n",
       "4      -30.0      48.99               69.99  10 Feb, 2025        1      1   \n",
       "\n",
       "   MacOS        Fetched At  \n",
       "0      0  2025-08-11 00:00  \n",
       "1      1  2025-08-11 00:00  \n",
       "2      1  2025-08-11 00:00  \n",
       "3      0  2025-08-11 00:00  \n",
       "4      1  2025-08-11 00:00  "
      ]
     },
     "execution_count": 2,
     "metadata": {},
     "output_type": "execute_result"
    }
   ],
   "source": [
    "df=pd.read_csv('../Dataset/steam_sales.csv')\n",
    "df.head()"
   ]
  },
  {
   "cell_type": "code",
   "execution_count": 3,
   "id": "c3307bc3-9c38-4614-a340-14ef6d3cdee9",
   "metadata": {},
   "outputs": [
    {
     "data": {
      "text/plain": [
       "Index(['Game Name', 'Rating', '#Reviews', 'Discount%', 'Price (€)',\n",
       "       'Original Price (€)', 'Release Date', 'Windows', 'Linux', 'MacOS',\n",
       "       'Fetched At'],\n",
       "      dtype='object')"
      ]
     },
     "execution_count": 3,
     "metadata": {},
     "output_type": "execute_result"
    }
   ],
   "source": [
    "df.columns"
   ]
  },
  {
   "cell_type": "code",
   "execution_count": 5,
   "id": "aa752bc0-19ff-410d-bea1-97221a1079cb",
   "metadata": {},
   "outputs": [
    {
     "data": {
      "text/plain": [
       "(736, 11)"
      ]
     },
     "execution_count": 5,
     "metadata": {},
     "output_type": "execute_result"
    }
   ],
   "source": [
    "df.shape"
   ]
  },
  {
   "cell_type": "markdown",
   "id": "6ed06677-d150-4cc9-8a43-63e53de3afbe",
   "metadata": {},
   "source": [
    "# Data Cleaning & Pre-Processing"
   ]
  },
  {
   "cell_type": "code",
   "execution_count": 9,
   "id": "d208f561-6f7f-4e9f-b388-06b2b0ab2b14",
   "metadata": {},
   "outputs": [
    {
     "data": {
      "text/plain": [
       "Game Name             0\n",
       "Rating                0\n",
       "#Reviews              0\n",
       "Discount%             0\n",
       "Price (€)             0\n",
       "Original Price (€)    0\n",
       "Release Date          0\n",
       "Windows               0\n",
       "Linux                 0\n",
       "MacOS                 0\n",
       "Fetched At            0\n",
       "dtype: int64"
      ]
     },
     "execution_count": 9,
     "metadata": {},
     "output_type": "execute_result"
    }
   ],
   "source": [
    "df.isna().sum()"
   ]
  },
  {
   "cell_type": "code",
   "execution_count": 10,
   "id": "6e7345ce-27e6-4196-9157-b04d2a3af8e8",
   "metadata": {},
   "outputs": [
    {
     "data": {
      "text/plain": [
       "np.False_"
      ]
     },
     "execution_count": 10,
     "metadata": {},
     "output_type": "execute_result"
    }
   ],
   "source": [
    "df.duplicated().any()"
   ]
  },
  {
   "cell_type": "raw",
   "id": "37052570-9594-4741-a4b4-023caa69e0e6",
   "metadata": {},
   "source": [
    "There are no null or duplicate values in the dataset."
   ]
  },
  {
   "cell_type": "code",
   "execution_count": 11,
   "id": "f958e35e-d6a1-413a-b8a5-8bb265985931",
   "metadata": {},
   "outputs": [
    {
     "name": "stdout",
     "output_type": "stream",
     "text": [
      "<class 'pandas.core.frame.DataFrame'>\n",
      "RangeIndex: 736 entries, 0 to 735\n",
      "Data columns (total 11 columns):\n",
      " #   Column              Non-Null Count  Dtype  \n",
      "---  ------              --------------  -----  \n",
      " 0   Game Name           736 non-null    object \n",
      " 1   Rating              736 non-null    float64\n",
      " 2   #Reviews            736 non-null    object \n",
      " 3   Discount%           736 non-null    float64\n",
      " 4   Price (€)           736 non-null    float64\n",
      " 5   Original Price (€)  736 non-null    float64\n",
      " 6   Release Date        736 non-null    object \n",
      " 7   Windows             736 non-null    int64  \n",
      " 8   Linux               736 non-null    int64  \n",
      " 9   MacOS               736 non-null    int64  \n",
      " 10  Fetched At          736 non-null    object \n",
      "dtypes: float64(4), int64(3), object(4)\n",
      "memory usage: 63.4+ KB\n"
     ]
    }
   ],
   "source": [
    "df.info()"
   ]
  },
  {
   "cell_type": "raw",
   "id": "572e09fa-732d-4746-b64b-8468dbb3efe0",
   "metadata": {},
   "source": [
    "Correcting the datatypes of the columns: -\n",
    "Reviews - String to Int\n",
    "Release Date - String to DateTime\n",
    "Fetched At - String to DateTime"
   ]
  },
  {
   "cell_type": "code",
   "execution_count": 28,
   "id": "c7f0e0b2-47b4-4bfc-8110-35f99b3134f8",
   "metadata": {},
   "outputs": [],
   "source": [
    "#changing the review columns\n",
    "df['#Reviews'] = pd.to_numeric(\n",
    "    df['#Reviews']\n",
    "    .astype(str)\n",
    "    .str.replace(',', '', regex=True)\n",
    "    .str.split('.').str[0],\n",
    "    errors='coerce'\n",
    ").astype('Int64')"
   ]
  },
  {
   "cell_type": "code",
   "execution_count": 24,
   "id": "fe3c9d45-6409-44e4-bf75-30665c740236",
   "metadata": {},
   "outputs": [],
   "source": [
    "#changing date columns\n",
    "df['Release Date']=pd.to_datetime(df['Release Date'], format='mixed', errors='coerce')\n",
    "df['Fetched At']=pd.to_datetime(df['Fetched At'])"
   ]
  },
  {
   "cell_type": "code",
   "execution_count": 29,
   "id": "a6c1ad97-8eed-4b7f-9e4b-0029a8148a0f",
   "metadata": {},
   "outputs": [
    {
     "name": "stdout",
     "output_type": "stream",
     "text": [
      "<class 'pandas.core.frame.DataFrame'>\n",
      "RangeIndex: 736 entries, 0 to 735\n",
      "Data columns (total 11 columns):\n",
      " #   Column              Non-Null Count  Dtype         \n",
      "---  ------              --------------  -----         \n",
      " 0   Game Name           736 non-null    object        \n",
      " 1   Rating              736 non-null    float64       \n",
      " 2   #Reviews            736 non-null    Int64         \n",
      " 3   Discount%           736 non-null    float64       \n",
      " 4   Price (€)           736 non-null    float64       \n",
      " 5   Original Price (€)  736 non-null    float64       \n",
      " 6   Release Date        736 non-null    datetime64[ns]\n",
      " 7   Windows             736 non-null    int64         \n",
      " 8   Linux               736 non-null    int64         \n",
      " 9   MacOS               736 non-null    int64         \n",
      " 10  Fetched At          736 non-null    datetime64[ns]\n",
      "dtypes: Int64(1), datetime64[ns](2), float64(4), int64(3), object(1)\n",
      "memory usage: 64.1+ KB\n"
     ]
    }
   ],
   "source": [
    "df.info()"
   ]
  },
  {
   "cell_type": "code",
   "execution_count": 33,
   "id": "ff767182-f295-4ff1-b782-c2376ab1ef29",
   "metadata": {},
   "outputs": [],
   "source": [
    "#changing the column names to make it easier to work\n",
    "cols={'#Reviews':'Reviews','Discount%':'Disc','Price (€)':'DiscPrice','Original Price (€)':'OriPrice','Release Date':'Release'}\n",
    "df.rename(columns=cols, inplace=True)"
   ]
  },
  {
   "cell_type": "code",
   "execution_count": 32,
   "id": "c1fe1fcb-52f6-4d4c-b3b9-0f5fda71c4dd",
   "metadata": {},
   "outputs": [
    {
     "data": {
      "text/plain": [
       "Index(['Game Name', 'Rating', 'Reviews', 'Disc', 'DiscPrice', 'OriPrice',\n",
       "       'Release', 'Windows', 'Linux', 'MacOS', 'Fetched At'],\n",
       "      dtype='object')"
      ]
     },
     "execution_count": 32,
     "metadata": {},
     "output_type": "execute_result"
    }
   ],
   "source": [
    "df.columns"
   ]
  },
  {
   "cell_type": "raw",
   "id": "4104e719-ca0f-4e44-8954-d478ceeda71a",
   "metadata": {},
   "source": [
    "So our Data is now cleaned and we can start our Exploratory Data Analysis"
   ]
  },
  {
   "cell_type": "markdown",
   "id": "31fad9d7-0a92-4a53-b037-a174cae8365b",
   "metadata": {},
   "source": [
    "# Exploratory Data Analysis"
   ]
  },
  {
   "cell_type": "code",
   "execution_count": 34,
   "id": "df103a75-da50-41c5-9a12-0fce3b98b840",
   "metadata": {},
   "outputs": [
    {
     "data": {
      "text/html": [
       "<div>\n",
       "<style scoped>\n",
       "    .dataframe tbody tr th:only-of-type {\n",
       "        vertical-align: middle;\n",
       "    }\n",
       "\n",
       "    .dataframe tbody tr th {\n",
       "        vertical-align: top;\n",
       "    }\n",
       "\n",
       "    .dataframe thead th {\n",
       "        text-align: right;\n",
       "    }\n",
       "</style>\n",
       "<table border=\"1\" class=\"dataframe\">\n",
       "  <thead>\n",
       "    <tr style=\"text-align: right;\">\n",
       "      <th></th>\n",
       "      <th>Rating</th>\n",
       "      <th>Reviews</th>\n",
       "      <th>Disc</th>\n",
       "      <th>DiscPrice</th>\n",
       "      <th>OriPrice</th>\n",
       "      <th>Release</th>\n",
       "      <th>Windows</th>\n",
       "      <th>Linux</th>\n",
       "      <th>MacOS</th>\n",
       "      <th>Fetched At</th>\n",
       "    </tr>\n",
       "  </thead>\n",
       "  <tbody>\n",
       "    <tr>\n",
       "      <th>count</th>\n",
       "      <td>736.000000</td>\n",
       "      <td>736.0</td>\n",
       "      <td>736.000000</td>\n",
       "      <td>736.000000</td>\n",
       "      <td>736.00000</td>\n",
       "      <td>736</td>\n",
       "      <td>736.000000</td>\n",
       "      <td>736.000000</td>\n",
       "      <td>736.000000</td>\n",
       "      <td>736</td>\n",
       "    </tr>\n",
       "    <tr>\n",
       "      <th>mean</th>\n",
       "      <td>6.419837</td>\n",
       "      <td>29403.376359</td>\n",
       "      <td>-50.884511</td>\n",
       "      <td>12.575163</td>\n",
       "      <td>27.31466</td>\n",
       "      <td>2021-05-27 09:58:41.739130624</td>\n",
       "      <td>0.997283</td>\n",
       "      <td>0.247283</td>\n",
       "      <td>0.330163</td>\n",
       "      <td>2025-08-14 15:58:33.260869376</td>\n",
       "    </tr>\n",
       "    <tr>\n",
       "      <th>min</th>\n",
       "      <td>3.000000</td>\n",
       "      <td>13.0</td>\n",
       "      <td>-90.000000</td>\n",
       "      <td>1.460000</td>\n",
       "      <td>2.99000</td>\n",
       "      <td>2006-12-07 00:00:00</td>\n",
       "      <td>0.000000</td>\n",
       "      <td>0.000000</td>\n",
       "      <td>0.000000</td>\n",
       "      <td>2025-08-11 00:00:00</td>\n",
       "    </tr>\n",
       "    <tr>\n",
       "      <th>25%</th>\n",
       "      <td>5.000000</td>\n",
       "      <td>1328.75</td>\n",
       "      <td>-75.000000</td>\n",
       "      <td>5.990000</td>\n",
       "      <td>17.72250</td>\n",
       "      <td>2019-01-13 18:00:00</td>\n",
       "      <td>1.000000</td>\n",
       "      <td>0.000000</td>\n",
       "      <td>0.000000</td>\n",
       "      <td>2025-08-11 00:00:00</td>\n",
       "    </tr>\n",
       "    <tr>\n",
       "      <th>50%</th>\n",
       "      <td>7.000000</td>\n",
       "      <td>5612.5</td>\n",
       "      <td>-50.000000</td>\n",
       "      <td>9.990000</td>\n",
       "      <td>23.99000</td>\n",
       "      <td>2022-09-27 00:00:00</td>\n",
       "      <td>1.000000</td>\n",
       "      <td>0.000000</td>\n",
       "      <td>0.000000</td>\n",
       "      <td>2025-08-11 00:00:00</td>\n",
       "    </tr>\n",
       "    <tr>\n",
       "      <th>75%</th>\n",
       "      <td>7.000000</td>\n",
       "      <td>23375.75</td>\n",
       "      <td>-30.000000</td>\n",
       "      <td>15.402500</td>\n",
       "      <td>34.99000</td>\n",
       "      <td>2024-08-27 06:00:00</td>\n",
       "      <td>1.000000</td>\n",
       "      <td>0.000000</td>\n",
       "      <td>1.000000</td>\n",
       "      <td>2025-08-18 12:52:00</td>\n",
       "    </tr>\n",
       "    <tr>\n",
       "      <th>max</th>\n",
       "      <td>8.000000</td>\n",
       "      <td>1038433.0</td>\n",
       "      <td>-10.000000</td>\n",
       "      <td>59.990000</td>\n",
       "      <td>99.99000</td>\n",
       "      <td>2025-08-15 00:00:00</td>\n",
       "      <td>1.000000</td>\n",
       "      <td>1.000000</td>\n",
       "      <td>1.000000</td>\n",
       "      <td>2025-08-18 12:52:00</td>\n",
       "    </tr>\n",
       "    <tr>\n",
       "      <th>std</th>\n",
       "      <td>1.296395</td>\n",
       "      <td>83397.041983</td>\n",
       "      <td>22.801873</td>\n",
       "      <td>8.786765</td>\n",
       "      <td>14.88030</td>\n",
       "      <td>NaN</td>\n",
       "      <td>0.052093</td>\n",
       "      <td>0.431726</td>\n",
       "      <td>0.470591</td>\n",
       "      <td>NaN</td>\n",
       "    </tr>\n",
       "  </tbody>\n",
       "</table>\n",
       "</div>"
      ],
      "text/plain": [
       "           Rating       Reviews        Disc   DiscPrice   OriPrice  \\\n",
       "count  736.000000         736.0  736.000000  736.000000  736.00000   \n",
       "mean     6.419837  29403.376359  -50.884511   12.575163   27.31466   \n",
       "min      3.000000          13.0  -90.000000    1.460000    2.99000   \n",
       "25%      5.000000       1328.75  -75.000000    5.990000   17.72250   \n",
       "50%      7.000000        5612.5  -50.000000    9.990000   23.99000   \n",
       "75%      7.000000      23375.75  -30.000000   15.402500   34.99000   \n",
       "max      8.000000     1038433.0  -10.000000   59.990000   99.99000   \n",
       "std      1.296395  83397.041983   22.801873    8.786765   14.88030   \n",
       "\n",
       "                             Release     Windows       Linux       MacOS  \\\n",
       "count                            736  736.000000  736.000000  736.000000   \n",
       "mean   2021-05-27 09:58:41.739130624    0.997283    0.247283    0.330163   \n",
       "min              2006-12-07 00:00:00    0.000000    0.000000    0.000000   \n",
       "25%              2019-01-13 18:00:00    1.000000    0.000000    0.000000   \n",
       "50%              2022-09-27 00:00:00    1.000000    0.000000    0.000000   \n",
       "75%              2024-08-27 06:00:00    1.000000    0.000000    1.000000   \n",
       "max              2025-08-15 00:00:00    1.000000    1.000000    1.000000   \n",
       "std                              NaN    0.052093    0.431726    0.470591   \n",
       "\n",
       "                          Fetched At  \n",
       "count                            736  \n",
       "mean   2025-08-14 15:58:33.260869376  \n",
       "min              2025-08-11 00:00:00  \n",
       "25%              2025-08-11 00:00:00  \n",
       "50%              2025-08-11 00:00:00  \n",
       "75%              2025-08-18 12:52:00  \n",
       "max              2025-08-18 12:52:00  \n",
       "std                              NaN  "
      ]
     },
     "execution_count": 34,
     "metadata": {},
     "output_type": "execute_result"
    }
   ],
   "source": [
    "df.describe()"
   ]
  },
  {
   "cell_type": "code",
   "execution_count": null,
   "id": "99333fab-d839-44db-83ae-10f6bfde7e79",
   "metadata": {},
   "outputs": [],
   "source": []
  }
 ],
 "metadata": {
  "kernelspec": {
   "display_name": "Python 3 (ipykernel)",
   "language": "python",
   "name": "python3"
  },
  "language_info": {
   "codemirror_mode": {
    "name": "ipython",
    "version": 3
   },
   "file_extension": ".py",
   "mimetype": "text/x-python",
   "name": "python",
   "nbconvert_exporter": "python",
   "pygments_lexer": "ipython3",
   "version": "3.13.7"
  }
 },
 "nbformat": 4,
 "nbformat_minor": 5
}
